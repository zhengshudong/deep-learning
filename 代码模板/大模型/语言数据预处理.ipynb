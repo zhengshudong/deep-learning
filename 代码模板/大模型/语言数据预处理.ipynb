{
 "cells": [
  {
   "cell_type": "code",
   "execution_count": 1,
   "id": "d455f596-c1df-4829-938a-b88782fcc5e5",
   "metadata": {},
   "outputs": [],
   "source": [
    "from transformers import BertTokenizer\n",
    "from collections import Counter"
   ]
  },
  {
   "cell_type": "code",
   "execution_count": 2,
   "id": "dff7d9f5-3c87-4a33-bb65-80dafc61906c",
   "metadata": {},
   "outputs": [],
   "source": [
    "# 设置数据总量\n",
    "data_num = 40\n",
    "# 设置语句最大长度\n",
    "max_len = 150\n",
    "# 创建Bert分词器\n",
    "bert_path = './tokenizer'\n",
    "tokenizer = BertTokenizer.from_pretrained(bert_path)\n",
    "data_dir = './'\n",
    "data_save_dir = '.'#设置字典保存路径"
   ]
  },
  {
   "cell_type": "code",
   "execution_count": 3,
   "id": "aa5a9469-f498-4e92-a14d-7d5b6ea44db0",
   "metadata": {
    "tags": []
   },
   "outputs": [
    {
     "name": "stdout",
     "output_type": "stream",
     "text": [
      "35\n"
     ]
    }
   ],
   "source": [
    "pairs_encoded = []\n",
    "with open(data_dir,encoding='utf-8') as f:\n",
    "    for i in range(0,data_num+1):\n",
    "        qa_pairs = []\n",
    "        lin = f.readline()[0:-1].split(',')\n",
    "        if i==0:\n",
    "            continue        \n",
    "        if len(lin) == 2:   \n",
    "            if len(lin[0])<max_len and len(lin[1])<max_len:\n",
    "                question = lin[0]\n",
    "                answer = lin[1]\n",
    "                encoded_question = tokenizer.encode_plus(question,\n",
    "                                                         add_special_tokens=True,\n",
    "                                                        truncation=True,\n",
    "                                                        padding=\"max_length\",\n",
    "                                                        max_length=max_len,\n",
    "                                                        return_attention_mask=True,\n",
    "                                                        return_tensors=\"pt\")\n",
    "                encoded_answer = tokenizer.encode_plus(answer,\n",
    "                                                     add_special_tokens=True,\n",
    "                                                    truncation=True,\n",
    "                                                    padding=\"max_length\",\n",
    "                                                    max_length=max_len,\n",
    "                                                    return_attention_mask=True,\n",
    "                                                    return_tensors=\"pt\")\n",
    "                question_ids = encoded_question[\"input_ids\"]\n",
    "                answer_ids = encoded_answer[\"input_ids\"]\n",
    "                question = question_ids[0].tolist()\n",
    "                answer = answer_ids[0].tolist()\n",
    "                qa_pairs.append(question)\n",
    "                qa_pairs.append(answer)\n",
    "                pairs_encoded.append(qa_pairs)\n",
    "                \n",
    "print(len(pairs_encoded))\n",
    "\n",
    "with open(data_save_dir+'/pairs_encoded_.txt', 'a', encoding='gb18030') as file:\n",
    "    for pair_encoded in pairs_encoded:\n",
    "        file.write(str(pair_encoded) + '\\n')"
   ]
  }
 ],
 "metadata": {
  "kernelspec": {
   "display_name": "Python 3 (ipykernel)",
   "language": "python",
   "name": "python3"
  },
  "language_info": {
   "codemirror_mode": {
    "name": "ipython",
    "version": 3
   },
   "file_extension": ".py",
   "mimetype": "text/x-python",
   "name": "python",
   "nbconvert_exporter": "python",
   "pygments_lexer": "ipython3",
   "version": "3.11.5"
  }
 },
 "nbformat": 4,
 "nbformat_minor": 5
}
