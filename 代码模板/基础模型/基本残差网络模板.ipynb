{
 "cells": [
  {
   "cell_type": "markdown",
   "id": "385beae4-5316-4fcf-b55c-1a34d474417a",
   "metadata": {},
   "source": [
    "模块导入"
   ]
  },
  {
   "cell_type": "code",
   "execution_count": 1,
   "id": "92b8a117-9e6d-452a-a6e4-de6a1e9bde69",
   "metadata": {},
   "outputs": [
    {
     "data": {
      "text/plain": [
       "\"\\n#设置环境变量免责声明\\nos.environ['KMP_DUPLICATE_LIB_OK'] = 'True'\\n\""
      ]
     },
     "execution_count": 1,
     "metadata": {},
     "output_type": "execute_result"
    }
   ],
   "source": [
    "#导入基本包\n",
    "import random\n",
    "import os\n",
    "import numpy as np\n",
    "#导入模型计算基本包\n",
    "import torch\n",
    "import torch.nn as nn\n",
    "from torch.nn import functional as F\n",
    "#图像及模型处理\n",
    "import torchvision\n",
    "from d2l import torch as d2l\n",
    "#评估绘图包\n",
    "import matplotlib.pyplot as plt\n",
    "from sklearn.metrics import roc_curve, auc\n",
    "from sklearn.preprocessing import label_binarize\n",
    "'''\n",
    "#设置环境变量免责声明\n",
    "os.environ['KMP_DUPLICATE_LIB_OK'] = 'True'\n",
    "'''"
   ]
  },
  {
   "cell_type": "markdown",
   "id": "fccaf10f-c96c-46a4-a337-eabf7c36c6e1",
   "metadata": {},
   "source": [
    "固定随机数"
   ]
  },
  {
   "cell_type": "code",
   "execution_count": 3,
   "id": "72805845-4230-49bc-9053-da5214b1e6cf",
   "metadata": {},
   "outputs": [],
   "source": [
    "def setup_seed(seed):\n",
    "\t#  下面两个常规设置了，用来np和random的话要设置 \n",
    "    np.random.seed(seed) \n",
    "    random.seed(seed)\n",
    "\n",
    "    os.environ['PYTHONHASHSEED'] = str(seed)\n",
    "    # 禁止hash随机化\n",
    "    os.environ['CUBLAS_WORKSPACE_CONFIG'] = ':4096:8'\n",
    "    # 在cuda 10.2及以上的版本中，需要设置以下环境变量来保证cuda的结果可复现\n",
    "\n",
    "    torch.cuda.manual_seed(seed)\n",
    "    torch.cuda.manual_seed_all(seed)# 多GPU训练需要设置这个\n",
    "    torch.manual_seed(seed)\n",
    "\n",
    "    torch.use_deterministic_algorithms(True)\n",
    "    # 一些操作使用了原子操作，不是确定性算法，不能保证可复现，设置这个禁用原子操作，保证使用确定性算法\n",
    "    torch.backends.cudnn.deterministic = True \n",
    "    # 确保每次返回的卷积算法是确定的\n",
    "    torch.backends.cudnn.enabled = False\n",
    "    # 禁用cudnn使用非确定性算法\n",
    "    torch.backends.cudnn.benchmark = False\n",
    "    # 与上面一条代码配套使用，True的话会自动寻找最适合当前配置的高效算法，来达到优化运行效率的问题。\n",
    "    # False保证实验结果可复现。"
   ]
  },
  {
   "cell_type": "markdown",
   "id": "87a976e8-0741-4cb5-8822-f1688aa0db8a",
   "metadata": {},
   "source": [
    "定义基本类和函数"
   ]
  },
  {
   "cell_type": "code",
   "execution_count": 4,
   "id": "8b4b289e-6c1b-4937-8f42-10135935c359",
   "metadata": {},
   "outputs": [],
   "source": [
    "class Residual(nn.Module): \n",
    "    def __init__(self, input_channels, num_channels,\n",
    "                 use_1x1conv=False, strides=1):\n",
    "        super().__init__()\n",
    "        self.conv1 = nn.Conv2d(input_channels, num_channels,\n",
    "                               kernel_size=3, padding=1, stride=strides)\n",
    "        self.conv2 = nn.Conv2d(num_channels, num_channels,\n",
    "                               kernel_size=3, padding=1)\n",
    "        if use_1x1conv:\n",
    "            self.conv3 = nn.Conv2d(input_channels, num_channels,\n",
    "                                   kernel_size=1, stride=strides)\n",
    "        else:\n",
    "            self.conv3 = None\n",
    "        self.bn1 = nn.BatchNorm2d(num_channels)\n",
    "        self.bn2 = nn.BatchNorm2d(num_channels)\n",
    "\n",
    "    def forward(self, X):\n",
    "        Y = F.relu(self.bn1(self.conv1(X)))\n",
    "        Y = self.bn2(self.conv2(Y))\n",
    "        if self.conv3:\n",
    "            X = self.conv3(X)\n",
    "        Y += X\n",
    "        return F.relu(Y)"
   ]
  },
  {
   "cell_type": "code",
   "execution_count": null,
   "id": "e147afbe-2c0e-48a8-a269-ab1f26c06d49",
   "metadata": {},
   "outputs": [],
   "source": [
    "def resnet_block(input_channels, num_channels, num_residuals,\n",
    "                 first_block=False):\n",
    "    blk = []\n",
    "    for i in range(num_residuals):\n",
    "        if i == 0 and not first_block:\n",
    "            blk.append(Residual(input_channels, num_channels,\n",
    "                                use_1x1conv=True, strides=2))\n",
    "        else:\n",
    "            blk.append(Residual(num_channels, num_channels))\n",
    "    return blk"
   ]
  },
  {
   "cell_type": "markdown",
   "id": "cd17cca7-3e40-4285-ba21-439d248edb2b",
   "metadata": {},
   "source": [
    "评估函数模块"
   ]
  },
  {
   "cell_type": "code",
   "execution_count": 7,
   "id": "5a0f3387-b21a-4420-99cb-11d98e0c65be",
   "metadata": {},
   "outputs": [],
   "source": [
    "#精度评估函数\n",
    "def evaluate_accuracy_gpu(net, data_iter, device=None):\n",
    "    if isinstance(net, nn.Module):\n",
    "        net.eval()\n",
    "        if not device:\n",
    "            device = next(iter(net.parameters())).device\n",
    "    metric = d2l.Accumulator(2)\n",
    "    with torch.no_grad():\n",
    "        for X, y in data_iter:\n",
    "            if isinstance(X, list):\n",
    "                X = [x.to(device) for x in X]\n",
    "            else:\n",
    "                X = X.to(device)\n",
    "            y = y.to(device)\n",
    "            metric.add(d2l.accuracy(net(X), y), y.numel())\n",
    "    return metric[0] / metric[1]"
   ]
  },
  {
   "cell_type": "code",
   "execution_count": 8,
   "id": "0328c8b6-cc45-4d5b-9a49-47be1c8e421c",
   "metadata": {},
   "outputs": [],
   "source": [
    "#绘制多分类ROC曲线\n",
    "def plot_multiclass_roc_curve(model, test_iter):\n",
    "    # 获取模型的预测概率和真实标签\n",
    "    y_true = []\n",
    "    y_prob = []\n",
    "    for batch in test_iter:\n",
    "        inputs, labels = batch\n",
    "        inputs = inputs.cuda()\n",
    "        outputs = model(inputs)\n",
    "        probabilities = outputs.softmax(dim=1)\n",
    "        y_true.extend(labels.cpu().numpy())\n",
    "        y_prob.extend(probabilities.cpu().detach().numpy())\n",
    "    y_true = np.array(y_true)\n",
    "    y_prob = np.array(y_prob)\n",
    "    y_prob = np.argmax(y_prob,axis=1)\n",
    "\n",
    "    #微平均和宏平均方法（Micro-average and Macro-average）\n",
    "    # 将真实标签转换为二值矩阵\n",
    "    y_true = label_binarize(y_true, classes=np.unique(y_true))\n",
    "    y_prob = label_binarize(y_prob, classes=np.unique(y_prob))\n",
    "\n",
    "    # 将多分类问题转换为二分类问题\n",
    "    y_true = y_true.ravel()\n",
    "    y_prob = y_prob.ravel()\n",
    "\n",
    "    fpr, tpr, thresholds = roc_curve(y_true, y_prob)\n",
    "    roc_auc = auc(fpr, tpr)\n",
    "\n",
    "    # 绘制ROC曲线\n",
    "    plt.figure()\n",
    "    plt.plot(fpr, tpr, color='darkorange', lw=2, label='ROC curve (area = %0.2f)' % roc_auc)\n",
    "    plt.plot([0, 1], [0, 1], color='navy', lw=2, linestyle='--')\n",
    "    plt.xlim([0.0, 1.0])\n",
    "    plt.ylim([0.0, 1.05])\n",
    "    plt.xlabel('False Positive Rate')\n",
    "    plt.ylabel('True Positive Rate')\n",
    "    plt.title('Receiver Operating Characteristic')\n",
    "    plt.legend(loc=\"lower right\")\n",
    "    plt.show()"
   ]
  },
  {
   "cell_type": "markdown",
   "id": "8cfff865-7d95-4580-ab5c-aa41f5ad807f",
   "metadata": {},
   "source": [
    "训练函数"
   ]
  },
  {
   "cell_type": "code",
   "execution_count": 9,
   "id": "8dab7131-5ca1-4f3b-a2d7-c199fd5d5966",
   "metadata": {},
   "outputs": [],
   "source": [
    "def train(net, train_iter, test_iter, num_epochs, lr, device):\n",
    "    def init_weights(m):\n",
    "        if type(m) == nn.Linear or type(m) == nn.Conv2d:\n",
    "            nn.init.xavier_uniform_(m.weight)\n",
    "    net.apply(init_weights)\n",
    "    print('training on', device)\n",
    "    net.to(device)\n",
    "    optimizer = torch.optim.Adam(net.parameters(), lr=lr)\n",
    "    loss = nn.CrossEntropyLoss()\n",
    "    animator = d2l.Animator(xlabel='epoch', xlim=[1, num_epochs],\n",
    "                            legend=['train loss', 'train acc', 'test acc'])\n",
    "    timer, num_batches = d2l.Timer(), len(train_iter)\n",
    "    for epoch in range(num_epochs):\n",
    "        metric = d2l.Accumulator(3)\n",
    "        net.train()\n",
    "        for i, (X, y) in enumerate(train_iter):\n",
    "            timer.start()\n",
    "            optimizer.zero_grad()\n",
    "            X, y = X.to(device), y.to(device)\n",
    "            y_hat = net(X)\n",
    "            l = loss(y_hat, y)\n",
    "            l.backward()\n",
    "            optimizer.step()\n",
    "            with torch.no_grad():\n",
    "                metric.add(l * X.shape[0], d2l.accuracy(y_hat, y), X.shape[0])\n",
    "            timer.stop()\n",
    "            train_l = metric[0] / metric[2]\n",
    "            train_acc = metric[1] / metric[2]\n",
    "            if (i + 1) % (num_batches // 5) == 0 or i == num_batches - 1:\n",
    "                animator.add(epoch + (i + 1) / num_batches,\n",
    "                             (train_l, train_acc, None))\n",
    "        test_acc = evaluate_accuracy_gpu(net, test_iter)\n",
    "        animator.add(epoch + 1, (None, None, test_acc))\n",
    "    print(f'loss {train_l:.3f}, train acc {train_acc:.3f}, '\n",
    "          f'test acc {test_acc:.3f}')\n",
    "    print(f'{metric[2] * num_epochs / timer.sum():.1f} examples/sec '\n",
    "          f'on {str(device)}')"
   ]
  },
  {
   "cell_type": "markdown",
   "id": "54ac725e-5f29-46b0-a49d-256936be6d91",
   "metadata": {},
   "source": [
    "图像可视化预测"
   ]
  },
  {
   "cell_type": "code",
   "execution_count": null,
   "id": "fe6c7c68-9ef7-4086-bf7d-03d64f9c852a",
   "metadata": {},
   "outputs": [],
   "source": [
    "def get_labels(labels):\n",
    "    text_labels = ['aca', 'n']\n",
    "    return [text_labels[int(i)] for i in labels]"
   ]
  },
  {
   "cell_type": "code",
   "execution_count": null,
   "id": "c06a7f51-eafc-4011-bd85-b1c2b1a6facf",
   "metadata": {},
   "outputs": [],
   "source": [
    "def show_images(imgs, num_rows, num_cols, titles=None, scale=1.5):\n",
    "    figsize = (num_cols * scale, num_rows * scale)\n",
    "    _, axes = d2l.plt.subplots(num_rows, num_cols, figsize=figsize)\n",
    "    axes = axes.reshape(-1)\n",
    "    for i, (ax, img) in enumerate(zip(axes, imgs)):\n",
    "        if torch.is_tensor(img):\n",
    "            img = img.cpu().numpy()\n",
    "        img = np.clip(img, 0, 1)\n",
    "        ax.imshow(img)\n",
    "        ax.axes.get_xaxis().set_visible(False)\n",
    "        ax.axes.get_yaxis().set_visible(False)\n",
    "        if titles:\n",
    "            ax.set_title(titles[i])\n",
    "    return axes"
   ]
  },
  {
   "cell_type": "code",
   "execution_count": null,
   "id": "a7225932-7787-4ac3-837a-8044c78c5b16",
   "metadata": {},
   "outputs": [],
   "source": [
    "def predict(net, test_iter, n=10): \n",
    "    for X, y in test_iter:\n",
    "        break\n",
    "    X, y = X.to('cuda'), y.to('cuda')\n",
    "    trues = get_labels(y)\n",
    "    preds = get_labels(net(X).argmax(axis=1))\n",
    "    titles = [true +'\\n' + pred for true, pred in zip(trues, preds)]\n",
    "    show_images(\n",
    "        X[0:n].reshape((n, 768, 768, 3)), 1, n, titles=titles[0:n])"
   ]
  },
  {
   "cell_type": "markdown",
   "id": "1bccffac-0439-4850-b7b2-3151d0693cac",
   "metadata": {},
   "source": [
    "主模块"
   ]
  },
  {
   "cell_type": "code",
   "execution_count": 10,
   "id": "97758c77-ff32-4c68-b6e2-79253a779e5c",
   "metadata": {},
   "outputs": [],
   "source": [
    "def main():\n",
    "    #数据处理\n",
    "    train_path = data_dir + '/training'\n",
    "    test_path = data_dir + '/testing'\n",
    "    \n",
    "    train_data = torchvision.datasets.ImageFolder(train_path,transform=transform)\n",
    "    test_data = torchvision.datasets.ImageFolder(test_path,transform=transform)\n",
    "\n",
    "    train_iter=torch.utils.data.DataLoader(train_data,batch_size=batch_size,shuffle=True)\n",
    "    test_iter=torch.utils.data.DataLoader(test_data,batch_size=batch_size,shuffle=True)\n",
    "\n",
    "    #训练\n",
    "    train(model, train_iter, test_iter, num_epochs, lr, device)\n",
    "    \n",
    "    #保存模型\n",
    "    torch.save(model,save_dir)\n",
    "\n",
    "    #调用模型计算ROC曲线\n",
    "    plot_multiclass_roc_curve(model, test_iter)\n",
    "    \n",
    "    #图像预测结果可视化\n",
    "    predict(model, test_iter)"
   ]
  },
  {
   "cell_type": "markdown",
   "id": "c7a8b6cb-e89d-41af-bb8c-bd208c2a5b3c",
   "metadata": {},
   "source": [
    "模型定义"
   ]
  },
  {
   "cell_type": "code",
   "execution_count": null,
   "id": "012e5ac2-eab7-4723-80ef-5870b619c79c",
   "metadata": {},
   "outputs": [],
   "source": [
    "b1 = nn.Sequential(nn.Conv2d(3, 64, kernel_size=7, stride=2, padding=3),\n",
    "                   nn.BatchNorm2d(64), nn.ReLU(),\n",
    "                   nn.MaxPool2d(kernel_size=3, stride=2, padding=1))\n",
    "b2 = nn.Sequential(*resnet_block(64, 64, 2, first_block=True))\n",
    "b3 = nn.Sequential(*resnet_block(64, 128, 2))\n",
    "b4 = nn.Sequential(*resnet_block(128, 256, 2))\n",
    "b5 = nn.Sequential(*resnet_block(256, 512, 2))\n",
    "\n",
    "#定义模型和训练模块\n",
    "model = nn.Sequential(b1, b2, b3, b4, b5,\n",
    "                    nn.AdaptiveAvgPool2d((1,1)),\n",
    "                    nn.Flatten(), nn.Linear(512, 3))"
   ]
  },
  {
   "cell_type": "markdown",
   "id": "ca51d8aa-29a6-4490-b047-2ec91773c7f1",
   "metadata": {},
   "source": [
    "模型预览"
   ]
  },
  {
   "cell_type": "code",
   "execution_count": null,
   "id": "6a744865-2f81-4c2f-b719-2659d3106a15",
   "metadata": {},
   "outputs": [],
   "source": [
    "X = torch.rand(size=(3, 3, 768, 768), dtype=torch.float32)\n",
    "for layer in net:\n",
    "    X = layer(X)\n",
    "    print(layer.__class__.__name__,'output shape: \\t',X.shape)"
   ]
  },
  {
   "cell_type": "markdown",
   "id": "4f470563-3dea-471a-bf2f-6475d7fe8f2b",
   "metadata": {},
   "source": [
    "参数设置"
   ]
  },
  {
   "cell_type": "code",
   "execution_count": 2,
   "id": "c8fc3aa2-db4b-4257-89d6-93a79b1c6324",
   "metadata": {},
   "outputs": [],
   "source": [
    "#设置参数\n",
    "device = d2l.try_gpu()#设置运行模式：CPU/GPU\n",
    "batch_size, lr, num_epochs = 20, 0.0001, 100#设置批量、学习率和迭代次数\n",
    "data_dir = '../../数据/'#设置文件读取路径\n",
    "save_dir = './model_.pt'#设置保存路径\n",
    "transform = torchvision.transforms.Compose([torchvision.transforms.Resize((224,224)),\n",
    "                                            torchvision.transforms.ToTensor(),\n",
    "                                            torchvision.transforms.Normalize((0.5, 0.5, 0.5), (0.5, 0.5, 0.5))])\n",
    "num_classes = 3#输出类别数量\n",
    "\n",
    "#设置随机数种子\n",
    "seed = 0"
   ]
  },
  {
   "cell_type": "code",
   "execution_count": null,
   "id": "43f5cbd5-f32a-450a-bc30-8649f5484d3f",
   "metadata": {},
   "outputs": [],
   "source": [
    "if __name__ == '__main__':\n",
    "    main()"
   ]
  }
 ],
 "metadata": {
  "kernelspec": {
   "display_name": "Python 3 (ipykernel)",
   "language": "python",
   "name": "python3"
  },
  "language_info": {
   "codemirror_mode": {
    "name": "ipython",
    "version": 3
   },
   "file_extension": ".py",
   "mimetype": "text/x-python",
   "name": "python",
   "nbconvert_exporter": "python",
   "pygments_lexer": "ipython3",
   "version": "3.11.5"
  }
 },
 "nbformat": 4,
 "nbformat_minor": 5
}
