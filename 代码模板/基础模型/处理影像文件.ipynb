{
 "cells": [
  {
   "cell_type": "markdown",
   "id": "8be2851f-7415-496c-a86d-9d6ff74b4f6d",
   "metadata": {},
   "source": [
    "此文件用于转换图像数据格式，将.nii.gz和.dcm文件转换为.npy文件"
   ]
  },
  {
   "cell_type": "code",
   "execution_count": 1,
   "id": "16d4d113-ab68-40ac-a33b-254619c31fec",
   "metadata": {},
   "outputs": [],
   "source": [
    "# 基础库\n",
    "import numpy as np\n",
    "import os\n",
    "# 图像.dcm文件读取\n",
    "import pydicom\n",
    "# 标签.nii.gz文件读取\n",
    "import nibabel as nib"
   ]
  },
  {
   "cell_type": "code",
   "execution_count": 2,
   "id": "8a9ee719-1865-4ee8-8732-85164234c856",
   "metadata": {},
   "outputs": [],
   "source": [
    "# .nii.gz文件转array\n",
    "def nii2array(nii_path):\n",
    "    img = nib.load(nii_path)\n",
    "    img_array = np.asarray(img.get_fdata())\n",
    "    img_array = np.transpose(img_array, (2, 1, 0))  # (x, y, z)\n",
    "    img_array = np.around(img_array)\n",
    "    img_array = img_array.astype(np.int16)\n",
    "    return img_array"
   ]
  },
  {
   "cell_type": "code",
   "execution_count": 3,
   "id": "80a32b98-1511-4114-a066-6f29bf41f009",
   "metadata": {},
   "outputs": [],
   "source": [
    "# .dcm文件转array\n",
    "def dcm2array(dcm_path):\n",
    "    slices = [pydicom.read_file(dcm_path + '/' + s) for s in os.listdir(dcm_path)]\n",
    "    # 按照z轴的位置排序\n",
    "    slices.sort(key = lambda x: float(x.ImagePositionPatient[2]))\n",
    "    lst = []\n",
    "    for s in slices:\n",
    "        print(s.pixel_array.shape)\n",
    "        if(s.pixel_array.shape==(512,512)):\n",
    "            lst.append(s.pixel_array)\n",
    "    # 转换为np.array\n",
    "    image = np.stack(lst)  # (z, y, x)\n",
    "    #将外部补全的部分修改成空气的数值\n",
    "    image[image < 0] = 0\n",
    "    return image.astype(np.int16)"
   ]
  },
  {
   "cell_type": "code",
   "execution_count": 4,
   "id": "cddafc92-0ead-4bba-bf25-4da0f122df9b",
   "metadata": {},
   "outputs": [],
   "source": [
    "def main():\n",
    "    save_path=  \"./npy\"\n",
    "    data_path = \"E:/main_file/项目/影像组学/临床信息核心数据/TCGA-KIRC/TCGA-B0-4713/06-22-1992-NA-ct ap wwo-47864/4.000000-Recon 2 WITH AND DELAY-53536/\"\n",
    "    # ds = pydicom.dcmread(data_path+\"1-084.dcm\")\n",
    "    # data_array= np.array(ds.pixel_array)\n",
    "    data_array = dcm2array(data_path)\n",
    "    print(data_array.shape)\n",
    "    np.save(save_path + \"final\" + \".npy\",\n",
    "             data_array.reshape(1, data_array.shape[0], data_array.shape[1], data_array.shape[2]))\n",
    "    print(data_array)"
   ]
  },
  {
   "cell_type": "code",
   "execution_count": 5,
   "id": "a7612c22-8f8c-4419-82d7-b3505f360e58",
   "metadata": {},
   "outputs": [
    {
     "name": "stdout",
     "output_type": "stream",
     "text": [
      "(512, 512)\n",
      "[[-1024 -1024 -1024 ... -1024 -1024 -1024]\n",
      " [-1024 -1024 -1024 ... -1024 -1024 -1024]\n",
      " [-1024 -1024 -1024 ... -1024 -1024 -1024]\n",
      " ...\n",
      " [-1024 -1024 -1024 ... -1024 -1024 -1024]\n",
      " [-1024 -1024 -1024 ... -1024 -1024 -1024]\n",
      " [-1024 -1024 -1024 ... -1024 -1024 -1024]]\n"
     ]
    }
   ],
   "source": [
    "if __name__ == \"__main__\":\n",
    "    main()"
   ]
  }
 ],
 "metadata": {
  "kernelspec": {
   "display_name": "Python 3 (ipykernel)",
   "language": "python",
   "name": "python3"
  },
  "language_info": {
   "codemirror_mode": {
    "name": "ipython",
    "version": 3
   },
   "file_extension": ".py",
   "mimetype": "text/x-python",
   "name": "python",
   "nbconvert_exporter": "python",
   "pygments_lexer": "ipython3",
   "version": "3.11.5"
  }
 },
 "nbformat": 4,
 "nbformat_minor": 5
}
