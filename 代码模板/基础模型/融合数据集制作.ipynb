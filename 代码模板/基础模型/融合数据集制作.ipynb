{
 "cells": [
  {
   "cell_type": "code",
   "execution_count": 1,
   "id": "44a9e352-455b-4db1-b21f-af30412d4cb5",
   "metadata": {},
   "outputs": [],
   "source": [
    "# 基础库\n",
    "import numpy as np\n",
    "import os\n",
    "import pandas as pd\n",
    "import random\n",
    "import torch\n",
    "from torch.utils.data import Dataset\n",
    "from torch.utils.data import DataLoader\n",
    "from torchvision import transforms\n",
    "import cv2\n",
    "# 图像.dcm文件读取\n",
    "import pydicom"
   ]
  },
  {
   "cell_type": "code",
   "execution_count": 2,
   "id": "08fc973f-2b37-431c-8616-7851126f12e1",
   "metadata": {},
   "outputs": [],
   "source": [
    "def  trans(x):\n",
    "    mean = np.mean(x)\n",
    "    std = np.std(x)\n",
    "    x = transforms.ToTensor()(x)\n",
    "    x = transforms.Normalize(mean,std)(x)\n",
    "    return x"
   ]
  },
  {
   "cell_type": "code",
   "execution_count": 3,
   "id": "bdf2714f-6edb-4f87-a9ec-34ae118a0ee7",
   "metadata": {},
   "outputs": [],
   "source": [
    "def dicom_data(path):\n",
    "    data_array = []\n",
    "    for j in os.listdir(path):\n",
    "    # 遍历每个患者内所有影像数据\n",
    "        dcm_path = path + '/' + j\n",
    "        slices = [pydicom.read_file(dcm_path + '/' + s) for s in os.listdir(dcm_path)]  # 读取每一个影像数据内部所有影像\n",
    "        for s in slices:\n",
    "            # 不改变分辨率的情况下重塑张量至 (335, 335)\n",
    "            resized_image = cv2.resize(s.pixel_array, (335, 335), interpolation=cv2.INTER_AREA)\n",
    "            data_array.append(resized_image)  # 更新数据列表，将得到的影像添加上去    \n",
    "    return np.array(data_array)"
   ]
  },
  {
   "cell_type": "code",
   "execution_count": null,
   "id": "116c1b9e-5cee-4b1a-8857-a51f7de17e72",
   "metadata": {},
   "outputs": [],
   "source": [
    "def clinical_data(sample_name):\n",
    "    # 读取CSV文件\n",
    "    df = pd.read_csv('data.csv')\n",
    "    \n",
    "    # 找到样本名称对应的行\n",
    "    row = df[df.iloc[:,0] == sample_name]\n",
    "    \n",
    "    # 返回除了第一列之外的其他数值\n",
    "    return row.iloc[:,1:]"
   ]
  },
  {
   "cell_type": "code",
   "execution_count": 4,
   "id": "e3a613be-c5ba-444c-ab20-ed3953b4ac0b",
   "metadata": {},
   "outputs": [],
   "source": [
    "data_path1 = './dataset/first_test/0/'\n",
    "datas = dict()\n",
    "for i in os.listdir(data_path1):\n",
    "    datas[i] = dict()\n",
    "    data_array = CMR_data(data_path1+i)\n",
    "    datas[i]['CMR'] = data_array\n",
    "    datas[i]['label'] = 0"
   ]
  },
  {
   "cell_type": "code",
   "execution_count": 5,
   "id": "81f522b7-69df-4521-9e57-6d99f9785a60",
   "metadata": {},
   "outputs": [],
   "source": [
    "data_path2 = './dataset/first_test/1/'\n",
    "for i in os.listdir(data_path2):\n",
    "    datas[i] = dict()\n",
    "    data_array = CMR_data(data_path2+i)\n",
    "    datas[i]['CMR'] = data_array\n",
    "    datas[i]['label'] = 1"
   ]
  },
  {
   "cell_type": "code",
   "execution_count": 6,
   "id": "92f5d166-90f5-4ec1-8c3d-46bf42748b65",
   "metadata": {},
   "outputs": [],
   "source": [
    "features1 = []\n",
    "labels = []\n",
    "for j in datas:\n",
    "    arr = datas[j]['CMR']\n",
    "    arr  = arr.astype(np.float64)\n",
    "    arr = trans(arr).numpy()\n",
    "    features1.append(arr)\n",
    "    labels.append(datas[j]['label'])\n",
    "features1 = np.array(features1)\n",
    "labels = np.array(labels)"
   ]
  },
  {
   "cell_type": "code",
   "execution_count": 7,
   "id": "c0cdb0c0-5134-415a-97c4-24efd6b18957",
   "metadata": {},
   "outputs": [
    {
     "name": "stdout",
     "output_type": "stream",
     "text": [
      "(56, 1, 335, 27, 335)\n",
      "(56,)\n"
     ]
    }
   ],
   "source": [
    "features1 = features1.reshape(features1.shape[0],1,features1.shape[1],features1.shape[2],features1.shape[3])\n",
    "print(features1.shape)\n",
    "print(labels.shape)"
   ]
  },
  {
   "cell_type": "code",
   "execution_count": 8,
   "id": "a6ee8d67-f4fd-4b4b-af22-5a91e2c968d0",
   "metadata": {},
   "outputs": [],
   "source": [
    "save_path1 = './dataloader/feature1.npy'\n",
    "save_path2 = './dataloader/label.npy'"
   ]
  },
  {
   "cell_type": "code",
   "execution_count": 9,
   "id": "f4e17622-15b9-42f2-8b3d-021330dc9935",
   "metadata": {},
   "outputs": [],
   "source": [
    "np.save(save_path1,features1)\n",
    "np.save(save_path2,labels)"
   ]
  }
 ],
 "metadata": {
  "kernelspec": {
   "display_name": "Python 3 (ipykernel)",
   "language": "python",
   "name": "python3"
  },
  "language_info": {
   "codemirror_mode": {
    "name": "ipython",
    "version": 3
   },
   "file_extension": ".py",
   "mimetype": "text/x-python",
   "name": "python",
   "nbconvert_exporter": "python",
   "pygments_lexer": "ipython3",
   "version": "3.11.5"
  }
 },
 "nbformat": 4,
 "nbformat_minor": 5
}
