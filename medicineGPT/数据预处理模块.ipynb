{
 "cells": [
  {
   "cell_type": "code",
   "execution_count": 1,
   "id": "d455f596-c1df-4829-938a-b88782fcc5e5",
   "metadata": {},
   "outputs": [],
   "source": [
    "from transformers import BertTokenizer\n",
    "from collections import Counter"
   ]
  },
  {
   "cell_type": "code",
   "execution_count": 2,
   "id": "dff7d9f5-3c87-4a33-bb65-80dafc61906c",
   "metadata": {},
   "outputs": [
    {
     "name": "stderr",
     "output_type": "stream",
     "text": [
      "'(MaxRetryError(\"HTTPSConnectionPool(host='huggingface.co', port=443): Max retries exceeded with url: /bert-base-chinese/resolve/main/tokenizer_config.json (Caused by ConnectTimeoutError(<urllib3.connection.HTTPSConnection object at 0x0000027BCFFEFFD0>, 'Connection to huggingface.co timed out. (connect timeout=10)'))\"), '(Request ID: a8b10170-e675-4f3a-b2b4-4ee372e59fdb)')' thrown while requesting HEAD https://huggingface.co/bert-base-chinese/resolve/main/tokenizer_config.json\n"
     ]
    }
   ],
   "source": [
    "# 设置数据总量\n",
    "data_num = 220607\n",
    "# 设置语句最大长度\n",
    "max_len = 200\n",
    "# 创建Bert分词器\n",
    "tokenizer = BertTokenizer.from_pretrained(\n",
    "    pretrained_model_name_or_path='bert-base-chinese',\n",
    "    cache_dir='./tokenizer',\n",
    "    force_download=False)\n",
    "\n",
    "data_dir = '../../数据/chinese medical dialogue_datasets/IM_内科/内科5000-33000.csv'#设置文件读取路径\n",
    "data_save_dir = './predata'#设置字典保存路径"
   ]
  },
  {
   "cell_type": "code",
   "execution_count": 3,
   "id": "e29c1456-7256-4bfe-b2aa-c5a7c77910cc",
   "metadata": {},
   "outputs": [],
   "source": [
    "pairs_encoded = []\n",
    "\n",
    "with open(data_dir,encoding='gb18030') as f:\n",
    "    for i in range(0,data_num+1):\n",
    "        qa_pairs = []\n",
    "        lin = f.readline()[0:-1].split(',')\n",
    "        if i==0:\n",
    "            continue        \n",
    "        #print(lin)\n",
    "        if len(lin) == 4:\n",
    "            if len(lin[1]+','+lin[2])<max_len and len(lin[3])<max_len:\n",
    "                question = lin[1]+','+lin[2]\n",
    "                answer = lin[3]\n",
    "                encoded_question = tokenizer.encode_plus(question,\n",
    "                                                         add_special_tokens=True,\n",
    "                                                        truncation=True,\n",
    "                                                        padding=\"max_length\",\n",
    "                                                        max_length=max_len,\n",
    "                                                        return_attention_mask=True,\n",
    "                                                        return_tensors=\"pt\")\n",
    "                encoded_answer = tokenizer.encode_plus(answer,\n",
    "                                                     add_special_tokens=True,\n",
    "                                                    truncation=True,\n",
    "                                                    padding=\"max_length\",\n",
    "                                                    max_length=max_len,\n",
    "                                                    return_attention_mask=True,\n",
    "                                                    return_tensors=\"pt\")\n",
    "                question_ids = encoded_question[\"input_ids\"]\n",
    "                answer_ids = encoded_answer[\"input_ids\"]\n",
    "                question = question_ids[0].tolist()\n",
    "                answer = answer_ids[0].tolist()\n",
    "                qa_pairs.append(question)\n",
    "                qa_pairs.append(answer)\n",
    "                pairs_encoded.append(qa_pairs)\n",
    "\n",
    "with open(data_save_dir+'/pairs_encoded.txt', 'w', encoding='gb18030') as file:\n",
    "    for pair_encoded in pairs_encoded:\n",
    "        file.write(str(pair_encoded) + '\\n')"
   ]
  }
 ],
 "metadata": {
  "kernelspec": {
   "display_name": "Python 3 (ipykernel)",
   "language": "python",
   "name": "python3"
  },
  "language_info": {
   "codemirror_mode": {
    "name": "ipython",
    "version": 3
   },
   "file_extension": ".py",
   "mimetype": "text/x-python",
   "name": "python",
   "nbconvert_exporter": "python",
   "pygments_lexer": "ipython3",
   "version": "3.11.5"
  }
 },
 "nbformat": 4,
 "nbformat_minor": 5
}
